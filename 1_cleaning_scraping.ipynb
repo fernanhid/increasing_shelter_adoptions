{
 "cells": [
  {
   "cell_type": "markdown",
   "metadata": {},
   "source": [
    "This notesbook deals with cleaning the data. "
   ]
  },
  {
   "cell_type": "code",
   "execution_count": 123,
   "metadata": {
    "collapsed": true
   },
   "outputs": [],
   "source": [
    "import pandas as pd\n",
    "import numpy as np\n",
    "import datetime\n",
    "from bs4 import BeautifulSoup as bf\n",
    "import requests\n",
    "import pickle\n",
    "\n",
    "%matplotlib inline"
   ]
  },
  {
   "cell_type": "code",
   "execution_count": 92,
   "metadata": {
    "collapsed": true
   },
   "outputs": [],
   "source": [
    "prelim_data = pd.read_csv('animal_train.csv')\n",
    "\n",
    "# Make the column names lowercase so they're easier to access\n",
    "prelim_data.columns = [name.lower() for name in prelim_data.columns]"
   ]
  },
  {
   "cell_type": "code",
   "execution_count": 93,
   "metadata": {
    "collapsed": false
   },
   "outputs": [
    {
     "data": {
      "text/html": [
       "<div>\n",
       "<table border=\"1\" class=\"dataframe\">\n",
       "  <thead>\n",
       "    <tr style=\"text-align: right;\">\n",
       "      <th></th>\n",
       "      <th>animalid</th>\n",
       "      <th>name</th>\n",
       "      <th>datetime</th>\n",
       "      <th>outcometype</th>\n",
       "      <th>outcomesubtype</th>\n",
       "      <th>animaltype</th>\n",
       "      <th>sexuponoutcome</th>\n",
       "      <th>ageuponoutcome</th>\n",
       "      <th>breed</th>\n",
       "      <th>color</th>\n",
       "    </tr>\n",
       "  </thead>\n",
       "  <tbody>\n",
       "    <tr>\n",
       "      <th>count</th>\n",
       "      <td>26729</td>\n",
       "      <td>19038</td>\n",
       "      <td>26729</td>\n",
       "      <td>26729</td>\n",
       "      <td>13117</td>\n",
       "      <td>26729</td>\n",
       "      <td>26728</td>\n",
       "      <td>26711</td>\n",
       "      <td>26729</td>\n",
       "      <td>26729</td>\n",
       "    </tr>\n",
       "    <tr>\n",
       "      <th>unique</th>\n",
       "      <td>26729</td>\n",
       "      <td>6374</td>\n",
       "      <td>22918</td>\n",
       "      <td>5</td>\n",
       "      <td>16</td>\n",
       "      <td>2</td>\n",
       "      <td>5</td>\n",
       "      <td>44</td>\n",
       "      <td>1380</td>\n",
       "      <td>366</td>\n",
       "    </tr>\n",
       "    <tr>\n",
       "      <th>top</th>\n",
       "      <td>A705677</td>\n",
       "      <td>Max</td>\n",
       "      <td>2015-08-11 00:00:00</td>\n",
       "      <td>Adoption</td>\n",
       "      <td>Partner</td>\n",
       "      <td>Dog</td>\n",
       "      <td>Neutered Male</td>\n",
       "      <td>1 year</td>\n",
       "      <td>Domestic Shorthair Mix</td>\n",
       "      <td>Black/White</td>\n",
       "    </tr>\n",
       "    <tr>\n",
       "      <th>freq</th>\n",
       "      <td>1</td>\n",
       "      <td>136</td>\n",
       "      <td>19</td>\n",
       "      <td>10769</td>\n",
       "      <td>7816</td>\n",
       "      <td>15595</td>\n",
       "      <td>9779</td>\n",
       "      <td>3969</td>\n",
       "      <td>8810</td>\n",
       "      <td>2824</td>\n",
       "    </tr>\n",
       "  </tbody>\n",
       "</table>\n",
       "</div>"
      ],
      "text/plain": [
       "       animalid   name             datetime outcometype outcomesubtype  \\\n",
       "count     26729  19038                26729       26729          13117   \n",
       "unique    26729   6374                22918           5             16   \n",
       "top     A705677    Max  2015-08-11 00:00:00    Adoption        Partner   \n",
       "freq          1    136                   19       10769           7816   \n",
       "\n",
       "       animaltype sexuponoutcome ageuponoutcome                   breed  \\\n",
       "count       26729          26728          26711                   26729   \n",
       "unique          2              5             44                    1380   \n",
       "top           Dog  Neutered Male         1 year  Domestic Shorthair Mix   \n",
       "freq        15595           9779           3969                    8810   \n",
       "\n",
       "              color  \n",
       "count         26729  \n",
       "unique          366  \n",
       "top     Black/White  \n",
       "freq           2824  "
      ]
     },
     "execution_count": 93,
     "metadata": {},
     "output_type": "execute_result"
    }
   ],
   "source": [
    "#Get an idea of the data\n",
    "prelim_data.describe()"
   ]
  },
  {
   "cell_type": "code",
   "execution_count": 94,
   "metadata": {
    "collapsed": true
   },
   "outputs": [],
   "source": [
    "# Delete the only row of data that is missing sexuponoutcome\n",
    "data = prelim_data[-prelim_data.sexuponoutcome.isnull()]"
   ]
  },
  {
   "cell_type": "markdown",
   "metadata": {},
   "source": [
    "### Age"
   ]
  },
  {
   "cell_type": "code",
   "execution_count": 95,
   "metadata": {
    "collapsed": false
   },
   "outputs": [],
   "source": [
    "# Make the age into days\n",
    "from functions.age_to_days import to_days\n",
    "# Make the age into days\n",
    "data_age_list = to_days(data.ageuponoutcome[-data.ageuponoutcome.isnull()])\n",
    "# Imputing the missing ages with the mean age\n",
    "data_age_mean = np.mean(data_age_list)\n",
    "data['age_in_days'] = to_days(data.ageuponoutcome.fillna(data_age_mean))"
   ]
  },
  {
   "cell_type": "markdown",
   "metadata": {},
   "source": [
    "### Date"
   ]
  },
  {
   "cell_type": "code",
   "execution_count": 96,
   "metadata": {
    "collapsed": false
   },
   "outputs": [],
   "source": [
    "# Turned date into a timestamp\n",
    "data['datetime'] = [datetime.datetime.strptime((string_date), '%Y-%m-%d %H:%M:%S') for string_date in data.datetime]"
   ]
  },
  {
   "cell_type": "code",
   "execution_count": 97,
   "metadata": {
    "collapsed": false
   },
   "outputs": [],
   "source": [
    "# Seperate it by year, month, day, weekday, hour\n",
    "data['year'] = map(lambda x: x.strftime('%Y'), data.datetime)\n",
    "data['month'] = map(lambda x: x.strftime('%b'), data.datetime)\n",
    "data['day'] = map(lambda x: x.strftime('%d'), data.datetime)\n",
    "data['weekday'] = map(lambda x: x.strftime('%A'), data.datetime)\n",
    "data['hour'] = map(lambda x: x.hour, data.datetime)"
   ]
  },
  {
   "cell_type": "code",
   "execution_count": 98,
   "metadata": {
    "collapsed": true
   },
   "outputs": [],
   "source": [
    "# Sterile into\n",
    "sterile_clean = [status_sex if status_sex == 'Unknown' else status_sex.split(' ')[0] for status_sex in data.sexuponoutcome]\n",
    "data['sterile'] = ['Sterile' if status == 'Neutered' or status == 'Spayed' else status for status in sterile_clean]"
   ]
  },
  {
   "cell_type": "markdown",
   "metadata": {},
   "source": [
    "## How To Deal With Color"
   ]
  },
  {
   "cell_type": "code",
   "execution_count": 99,
   "metadata": {
    "collapsed": true
   },
   "outputs": [],
   "source": [
    "def return_classes(color, color_order):\n",
    "    try:\n",
    "        return color.split('/')[color_order] \n",
    "    except:\n",
    "        return 'None'"
   ]
  },
  {
   "cell_type": "code",
   "execution_count": 100,
   "metadata": {
    "collapsed": true
   },
   "outputs": [],
   "source": [
    "first_color_dog = [return_classes(color, 0) for color in data[data.animaltype == 'Dog'].color]\n",
    "second_color_dog = [return_classes(color, 1) for color in data[data.animaltype == 'Dog'].color]"
   ]
  },
  {
   "cell_type": "code",
   "execution_count": 101,
   "metadata": {
    "collapsed": true
   },
   "outputs": [],
   "source": [
    "reduced_first_color = [return_classes(color, 0) for color in first_color_dog]\n",
    "reduced_second_color = [color.split()[0] for color in second_color_dog]"
   ]
  },
  {
   "cell_type": "code",
   "execution_count": 102,
   "metadata": {
    "collapsed": true
   },
   "outputs": [],
   "source": [
    "first_color_complete = [return_classes(color, 0) for color in data.color]\n",
    "second_color_complete = [return_classes(color, 1) for color in data.color]\n",
    "reduced_first_color_complete = map(lambda x: x.split()[0], first_color_complete)\n",
    "reduced_second_color_complete = map(lambda x: x.split()[0], second_color_complete)"
   ]
  },
  {
   "cell_type": "code",
   "execution_count": 103,
   "metadata": {
    "collapsed": true
   },
   "outputs": [],
   "source": [
    "first_color_cat = [return_classes(color, 0) for color in data[data.animaltype == 'Cat'].color]\n",
    "second_color_cat = [return_classes(color, 1) for color in data[data.animaltype == 'Cat'].color]"
   ]
  },
  {
   "cell_type": "code",
   "execution_count": 104,
   "metadata": {
    "collapsed": true
   },
   "outputs": [],
   "source": [
    "df_cat = pd.DataFrame({'first_color_cat': first_color_cat,\n",
    "              'second_color_cat': second_color_cat,\n",
    "              'complete': data[data.animaltype == 'Cat'].color})"
   ]
  },
  {
   "cell_type": "code",
   "execution_count": 105,
   "metadata": {
    "collapsed": true
   },
   "outputs": [],
   "source": [
    "df_complete = pd.DataFrame({'first_color_complete': first_color_complete,\n",
    "              'second_color_complete': second_color_complete,\n",
    "              'all_complete': data.color})"
   ]
  },
  {
   "cell_type": "code",
   "execution_count": 106,
   "metadata": {
    "collapsed": true
   },
   "outputs": [],
   "source": [
    "data['first_color'] = reduced_first_color_complete\n",
    "data['second_color'] = reduced_second_color_complete"
   ]
  },
  {
   "cell_type": "markdown",
   "metadata": {},
   "source": [
    "## Breeds"
   ]
  },
  {
   "cell_type": "code",
   "execution_count": 107,
   "metadata": {
    "collapsed": false
   },
   "outputs": [
    {
     "data": {
      "text/plain": [
       "1380"
      ]
     },
     "execution_count": 107,
     "metadata": {},
     "output_type": "execute_result"
    }
   ],
   "source": [
    "len(data.breed.value_counts())"
   ]
  },
  {
   "cell_type": "markdown",
   "metadata": {},
   "source": [
    "There are a lot of breeds, so I reduced the dogs breeds into dog kennel club classes and I took the top cat breeds and\n",
    "used only those"
   ]
  },
  {
   "cell_type": "markdown",
   "metadata": {},
   "source": [
    "I scraped the table from the American Kennel Club's wikipedia page and added breeds that weren't there. "
   ]
  },
  {
   "cell_type": "code",
   "execution_count": 121,
   "metadata": {
    "collapsed": false
   },
   "outputs": [],
   "source": [
    "url = 'https://en.wikipedia.org/wiki/List_of_dog_breeds_recognized_by_the_American_Kennel_Club'\n",
    "\n",
    "breed_url = bf(requests.get(url).text, 'lxml')\n",
    "\n",
    "breed_dict = {}\n",
    "for i, line in enumerate(breed_url.find_all('li')[26:]):\n",
    "    try:\n",
    "        breed_dict[line.a.text] = line.a.next_sibling.split(', ')[1]\n",
    "    except:\n",
    "        pass\n",
    "\n",
    "#Cats    \n",
    "breed_dict['Domestic Shorthair'] = 'Domestic ShortHair'\n",
    "breed_dict['Domestic Medium Hair'] = 'Domestic Medium Hair'\n",
    "breed_dict['Domestic Longhair'] = 'Domestic Longhair'\n",
    "breed_dict['Siamese'] = 'Siamese'\n",
    "breed_dict['Snowshoe'] = 'Snowshoe'\n",
    "\n",
    "#Dogs  \n",
    "breed_dict['Shepherd'] = 'Herding'\n",
    "breed_dict['Miniature Poodle'] = 'Toy'\n",
    "breed_dict['Parson Russell Terrier'] = 'Terrier'\n",
    "breed_dict['Chihuahua Shorthair'] = 'Toy'\n",
    "breed_dict['Jack Russell Terrier'] = 'Terrier'\n",
    "breed_dict['Chihuahua Longhair'] = 'Toy'\n",
    "breed_dict['Anatol Shepherd'] = 'Working'\n",
    "breed_dict['Pit Bull'] = 'Pit Bull'\n",
    "breed_dict['American Bulldog'] = 'Non-Sporting'\n",
    "breed_dict['Hound'] = 'Hound'\n",
    "breed_dict['Pointer'] = 'Sporting'\n",
    "breed_dict['Terrier'] = 'Terrier'\n",
    "breed_dict['Bulldog'] = 'Non-Sporting'\n",
    "breed_dict['Poodle'] = 'Toy'\n",
    "breed_dict['other'] = 'other'"
   ]
  },
  {
   "cell_type": "code",
   "execution_count": 125,
   "metadata": {
    "collapsed": false
   },
   "outputs": [],
   "source": [
    "with open('breed_dict.pickle', 'wb') as handle:\n",
    "    pickle.dump(breed_dict, handle)"
   ]
  },
  {
   "cell_type": "markdown",
   "metadata": {},
   "source": [
    "<b> Then I Made a dictionary so that we could iterate through the breeds and they would give us back\n",
    "the new condensed breed <b>"
   ]
  },
  {
   "cell_type": "code",
   "execution_count": 109,
   "metadata": {
    "collapsed": true
   },
   "outputs": [],
   "source": []
  },
  {
   "cell_type": "markdown",
   "metadata": {},
   "source": [
    "We then seperate split the seperate breeds "
   ]
  },
  {
   "cell_type": "code",
   "execution_count": 110,
   "metadata": {
    "collapsed": true
   },
   "outputs": [],
   "source": [
    "first_breed_complete = [return_classes(color, 0) for color in data.breed]\n",
    "second_breed_complete = [return_classes(color, 1) for color in data.breed]"
   ]
  },
  {
   "cell_type": "markdown",
   "metadata": {},
   "source": [
    "We Then transform the breeds"
   ]
  },
  {
   "cell_type": "code",
   "execution_count": 111,
   "metadata": {
    "collapsed": false
   },
   "outputs": [],
   "source": [
    "without_mix_first_breed_complete = [breed.replace('Mix', '').strip() for breed in first_breed_complete]\n",
    "reduced_first_breeds = [in_dict(i, breed_dict) for i in without_mix_first_breed_complete]"
   ]
  },
  {
   "cell_type": "code",
   "execution_count": 112,
   "metadata": {
    "collapsed": true
   },
   "outputs": [],
   "source": [
    "data['first_breed'] = first_breed_complete\n",
    "data['second_breed'] = second_breed_complete\n",
    "data['reduced_first_breed'] = reduced_first_breeds"
   ]
  },
  {
   "cell_type": "code",
   "execution_count": 113,
   "metadata": {
    "collapsed": true
   },
   "outputs": [],
   "source": [
    "df_breed_complete = pd.DataFrame({'first_breed_complete': first_breed_complete,\n",
    "              'second_breed_complete': second_breed_complete,\n",
    "              'all_complete': data.breed,\n",
    "              'reduce_first_breed': data.reduced_first_breed})"
   ]
  },
  {
   "cell_type": "code",
   "execution_count": 114,
   "metadata": {
    "collapsed": true
   },
   "outputs": [],
   "source": [
    "## Make to Dummy Variables"
   ]
  },
  {
   "cell_type": "code",
   "execution_count": 115,
   "metadata": {
    "collapsed": true
   },
   "outputs": [],
   "source": [
    "data['sex'] = [status_sex if status_sex == 'Unknown' else status_sex.split(' ')[1] for status_sex in data.sexuponoutcome]\n",
    "data['if_female'] = [1 if sex == 'Female' else 0 for sex in data.sex]\n",
    "data['if_dog'] = [1 if type_ == 'Dog' else 0 for type_ in data.animaltype]\n",
    "data['has_name'] = [1 if type(name) == str else 0 for name in data.name]"
   ]
  },
  {
   "cell_type": "code",
   "execution_count": 136,
   "metadata": {
    "collapsed": false
   },
   "outputs": [],
   "source": [
    "month_dummies = pd.get_dummies(data['month'], prefix = 'month', drop_first = True)\n",
    "fertility_dummies = pd.get_dummies(data.sterile, prefix = 'fertility', drop_first= True)\n",
    "weekday_dummies = pd.get_dummies(data.weekday, prefix = 'weekday', drop_first = True)\n",
    "first_breed_dummies = pd.get_dummies(data.first_breed, prefix = 'first_breed', drop_first = True)\n",
    "second_breed_dummies = pd.get_dummies(data.second_breed, prefix = 'second_breed', drop_first = True)\n",
    "first_color_dummies = pd.get_dummies(data.first_color, prefix = 'first_color', drop_first = True)\n",
    "second_color_dummies = pd.get_dummies(data.second_color, prefix = 'second_color', drop_first = True)\n",
    "reduced_first_breed_dummies = pd.get_dummies(data.reduced_first_breed, prefix = 'first_breed', drop_first = True)"
   ]
  },
  {
   "cell_type": "code",
   "execution_count": 140,
   "metadata": {
    "collapsed": false
   },
   "outputs": [],
   "source": [
    "predict_data = data[['outcometype',  'age_in_days', 'hour', 'has_name', 'if_female', 'if_dog']].join([month_dummies,\n",
    "                                                                                                    fertility_dummies,\n",
    "                                                                                                    weekday_dummies,\n",
    "                                                                                                     reduced_first_breed_dummies,\n",
    "                                                                                                     first_color_dummies,\n",
    "                                                                                                     second_color_dummies])"
   ]
  },
  {
   "cell_type": "code",
   "execution_count": 141,
   "metadata": {
    "collapsed": true
   },
   "outputs": [],
   "source": [
    "predict_data.to_csv('predict_data.csv')"
   ]
  },
  {
   "cell_type": "code",
   "execution_count": 142,
   "metadata": {
    "collapsed": false
   },
   "outputs": [
    {
     "data": {
      "text/plain": [
       "Index([                     u'outcometype',\n",
       "                            u'age_in_days',\n",
       "                                   u'hour',\n",
       "                               u'has_name',\n",
       "                              u'if_female',\n",
       "                                 u'if_dog',\n",
       "                              u'month_Aug',\n",
       "                              u'month_Dec',\n",
       "                              u'month_Feb',\n",
       "                              u'month_Jan',\n",
       "                              u'month_Jul',\n",
       "                              u'month_Jun',\n",
       "                              u'month_Mar',\n",
       "                              u'month_May',\n",
       "                              u'month_Nov',\n",
       "                              u'month_Oct',\n",
       "                              u'month_Sep',\n",
       "                      u'fertility_Sterile',\n",
       "                      u'fertility_Unknown',\n",
       "                         u'weekday_Monday',\n",
       "                       u'weekday_Saturday',\n",
       "                         u'weekday_Sunday',\n",
       "                       u'weekday_Thursday',\n",
       "                        u'weekday_Tuesday',\n",
       "                      u'weekday_Wednesday',\n",
       "       u'first_breed_Domestic Medium Hair',\n",
       "         u'first_breed_Domestic ShortHair',\n",
       "                    u'first_breed_Herding',\n",
       "                      u'first_breed_Hound',\n",
       "               u'first_breed_Non-Sporting',\n",
       "                   u'first_breed_Pit Bull',\n",
       "                    u'first_breed_Siamese',\n",
       "                   u'first_breed_Snowshoe',\n",
       "                   u'first_breed_Sporting',\n",
       "                    u'first_breed_Terrier',\n",
       "                        u'first_breed_Toy',\n",
       "                    u'first_breed_Working',\n",
       "                      u'first_breed_other',\n",
       "                    u'first_color_Apricot',\n",
       "                      u'first_color_Black',\n",
       "                       u'first_color_Blue',\n",
       "                      u'first_color_Brown',\n",
       "                       u'first_color_Buff',\n",
       "                     u'first_color_Calico',\n",
       "                  u'first_color_Chocolate',\n",
       "                      u'first_color_Cream',\n",
       "                       u'first_color_Fawn',\n",
       "                      u'first_color_Flame',\n",
       "                       u'first_color_Gold',\n",
       "                       u'first_color_Gray',\n",
       "                      u'first_color_Lilac',\n",
       "                      u'first_color_Liver',\n",
       "                       u'first_color_Lynx',\n",
       "                     u'first_color_Orange',\n",
       "                       u'first_color_Pink',\n",
       "                        u'first_color_Red',\n",
       "                      u'first_color_Ruddy',\n",
       "                      u'first_color_Sable',\n",
       "                       u'first_color_Seal',\n",
       "                     u'first_color_Silver',\n",
       "                        u'first_color_Tan',\n",
       "                     u'first_color_Torbie',\n",
       "                     u'first_color_Tortie',\n",
       "                   u'first_color_Tricolor',\n",
       "                      u'first_color_White',\n",
       "                     u'first_color_Yellow',\n",
       "                     u'second_color_Black',\n",
       "                      u'second_color_Blue',\n",
       "                     u'second_color_Brown',\n",
       "                      u'second_color_Buff',\n",
       "                    u'second_color_Calico',\n",
       "                 u'second_color_Chocolate',\n",
       "                     u'second_color_Cream',\n",
       "                     u'second_color_Flame',\n",
       "                      u'second_color_Gold',\n",
       "                      u'second_color_Gray',\n",
       "                     u'second_color_Liver',\n",
       "                      u'second_color_Lynx',\n",
       "                      u'second_color_None',\n",
       "                    u'second_color_Orange',\n",
       "                      u'second_color_Pink',\n",
       "                       u'second_color_Red',\n",
       "                      u'second_color_Seal',\n",
       "                    u'second_color_Silver',\n",
       "                       u'second_color_Tan',\n",
       "                    u'second_color_Tortie',\n",
       "                  u'second_color_Tricolor',\n",
       "                     u'second_color_White',\n",
       "                    u'second_color_Yellow'],\n",
       "      dtype='object')"
      ]
     },
     "execution_count": 142,
     "metadata": {},
     "output_type": "execute_result"
    }
   ],
   "source": [
    "predict_data.columns#.first_breed_Snowshoe"
   ]
  },
  {
   "cell_type": "code",
   "execution_count": null,
   "metadata": {
    "collapsed": true
   },
   "outputs": [],
   "source": [
    "predi"
   ]
  }
 ],
 "metadata": {
  "anaconda-cloud": {},
  "kernelspec": {
   "display_name": "Python [conda env:datasci27]",
   "language": "python",
   "name": "conda-env-datasci27-py"
  },
  "language_info": {
   "codemirror_mode": {
    "name": "ipython",
    "version": 2
   },
   "file_extension": ".py",
   "mimetype": "text/x-python",
   "name": "python",
   "nbconvert_exporter": "python",
   "pygments_lexer": "ipython2",
   "version": "2.7.12"
  }
 },
 "nbformat": 4,
 "nbformat_minor": 1
}

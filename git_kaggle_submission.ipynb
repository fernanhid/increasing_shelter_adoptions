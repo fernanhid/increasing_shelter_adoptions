{
 "cells": [
  {
   "cell_type": "code",
   "execution_count": 124,
   "metadata": {
    "collapsed": true
   },
   "outputs": [],
   "source": [
    "import pandas as pd\n",
    "import pickle\n",
    "import numpy as np\n",
    "from datetime import datetime\n",
    "import cPickle"
   ]
  },
  {
   "cell_type": "code",
   "execution_count": 125,
   "metadata": {
    "collapsed": false
   },
   "outputs": [],
   "source": [
    "test = pd.read_csv('animal_test.csv')\n",
    "test.columns = [name.lower() for name in test.columns]\n",
    "\n",
    "with open('breed_dict.pkl', 'rb') as handle:\n",
    "     breed_dict = pickle.load(handle)\n",
    "        \n",
    "with open('rforest_model.pkl', 'rb') as fid:\n",
    "    rf_clf = cPickle.load(fid)        "
   ]
  },
  {
   "cell_type": "code",
   "execution_count": 126,
   "metadata": {
    "collapsed": false
   },
   "outputs": [],
   "source": [
    "from shelter_df.functions import return_classes, to_days, in_dict"
   ]
  },
  {
   "cell_type": "code",
   "execution_count": 127,
   "metadata": {
    "collapsed": false
   },
   "outputs": [
    {
     "data": {
      "text/html": [
       "<div>\n",
       "<table border=\"1\" class=\"dataframe\">\n",
       "  <thead>\n",
       "    <tr style=\"text-align: right;\">\n",
       "      <th></th>\n",
       "      <th>id</th>\n",
       "      <th>name</th>\n",
       "      <th>datetime</th>\n",
       "      <th>animaltype</th>\n",
       "      <th>sexuponoutcome</th>\n",
       "      <th>ageuponoutcome</th>\n",
       "      <th>breed</th>\n",
       "      <th>color</th>\n",
       "    </tr>\n",
       "  </thead>\n",
       "  <tbody>\n",
       "    <tr>\n",
       "      <th>0</th>\n",
       "      <td>1</td>\n",
       "      <td>Summer</td>\n",
       "      <td>2015-10-12 12:15:00</td>\n",
       "      <td>Dog</td>\n",
       "      <td>Intact Female</td>\n",
       "      <td>10 months</td>\n",
       "      <td>Labrador Retriever Mix</td>\n",
       "      <td>Red/White</td>\n",
       "    </tr>\n",
       "    <tr>\n",
       "      <th>1</th>\n",
       "      <td>2</td>\n",
       "      <td>Cheyenne</td>\n",
       "      <td>2014-07-26 17:59:00</td>\n",
       "      <td>Dog</td>\n",
       "      <td>Spayed Female</td>\n",
       "      <td>2 years</td>\n",
       "      <td>German Shepherd/Siberian Husky</td>\n",
       "      <td>Black/Tan</td>\n",
       "    </tr>\n",
       "    <tr>\n",
       "      <th>2</th>\n",
       "      <td>3</td>\n",
       "      <td>Gus</td>\n",
       "      <td>2016-01-13 12:20:00</td>\n",
       "      <td>Cat</td>\n",
       "      <td>Neutered Male</td>\n",
       "      <td>1 year</td>\n",
       "      <td>Domestic Shorthair Mix</td>\n",
       "      <td>Brown Tabby</td>\n",
       "    </tr>\n",
       "    <tr>\n",
       "      <th>3</th>\n",
       "      <td>4</td>\n",
       "      <td>Pongo</td>\n",
       "      <td>2013-12-28 18:12:00</td>\n",
       "      <td>Dog</td>\n",
       "      <td>Intact Male</td>\n",
       "      <td>4 months</td>\n",
       "      <td>Collie Smooth Mix</td>\n",
       "      <td>Tricolor</td>\n",
       "    </tr>\n",
       "    <tr>\n",
       "      <th>4</th>\n",
       "      <td>5</td>\n",
       "      <td>Skooter</td>\n",
       "      <td>2015-09-24 17:59:00</td>\n",
       "      <td>Dog</td>\n",
       "      <td>Neutered Male</td>\n",
       "      <td>2 years</td>\n",
       "      <td>Miniature Poodle Mix</td>\n",
       "      <td>White</td>\n",
       "    </tr>\n",
       "  </tbody>\n",
       "</table>\n",
       "</div>"
      ],
      "text/plain": [
       "   id      name             datetime animaltype sexuponoutcome ageuponoutcome  \\\n",
       "0   1    Summer  2015-10-12 12:15:00        Dog  Intact Female      10 months   \n",
       "1   2  Cheyenne  2014-07-26 17:59:00        Dog  Spayed Female        2 years   \n",
       "2   3       Gus  2016-01-13 12:20:00        Cat  Neutered Male         1 year   \n",
       "3   4     Pongo  2013-12-28 18:12:00        Dog    Intact Male       4 months   \n",
       "4   5   Skooter  2015-09-24 17:59:00        Dog  Neutered Male        2 years   \n",
       "\n",
       "                            breed        color  \n",
       "0          Labrador Retriever Mix    Red/White  \n",
       "1  German Shepherd/Siberian Husky    Black/Tan  \n",
       "2          Domestic Shorthair Mix  Brown Tabby  \n",
       "3               Collie Smooth Mix     Tricolor  \n",
       "4            Miniature Poodle Mix        White  "
      ]
     },
     "execution_count": 127,
     "metadata": {},
     "output_type": "execute_result"
    }
   ],
   "source": [
    "test.head()"
   ]
  },
  {
   "cell_type": "markdown",
   "metadata": {},
   "source": [
    "# Cleaning Data"
   ]
  },
  {
   "cell_type": "code",
   "execution_count": 129,
   "metadata": {
    "collapsed": false
   },
   "outputs": [],
   "source": [
    "age_list = to_days(test.ageuponoutcome[-test.ageuponoutcome.isnull()])\n",
    "age_mean = np.mean(age_list)\n",
    "\n",
    "test['age_in_days'] = to_days(test.ageuponoutcome.fillna(age_mean))\n",
    "test['has_name'] = [1 if type(name) == str else 0 for name in test.name]\n",
    "test['month'] = [datetime.strptime((string_date), '%Y-%m-%d %H:%M:%S').strftime('%b') for string_date in test.datetime]\n",
    "test['year'] = [datetime.strptime((string_date), '%Y-%m-%d %H:%M:%S').strftime('%Y') for string_date in test.datetime]\n",
    "test['day'] = [datetime.strptime((string_date), '%Y-%m-%d %H:%M:%S').strftime('%d') for string_date in test.datetime]\n",
    "test['weekday'] = [datetime.strptime((string_date), '%Y-%m-%d %H:%M:%S').strftime('%A') for string_date in test.datetime]\n",
    "test['sex'] = [status_sex if status_sex == 'Unknown' else status_sex.split(' ')[1] for status_sex in test.sexuponoutcome]\n",
    "sterile_clean = [status_sex if status_sex == 'Unknown' else status_sex.split(' ')[0] for status_sex in test.sexuponoutcome]\n",
    "test['sterile'] = ['Sterile' if status == 'Neutered' or status == 'Spayed' else status for status in sterile_clean]\n",
    "test['if_female'] = [1 if sex == 'Female' else 0 for sex in test.sex]\n",
    "test['if_dog'] = [1 if type_ == 'Dog' else 0 for type_ in test.animaltype]\n",
    "test['hour'] = [datetime.strptime((string_date), '%Y-%m-%d %H:%M:%S').hour for string_date in test.datetime]\n",
    "\n",
    "first_breed_complete_test = [return_classes(color, 0) for color in test.breed]\n",
    "without_mix_first_breed_complete_test = [breed.replace('Mix', '').strip() for breed in first_breed_complete_test]\n",
    "reduced_first_breeds_test = [in_dict(i, breed_dict) for i in without_mix_first_breed_complete_test]\n",
    "test['reduced_first_breed'] = reduced_first_breeds_test\n",
    "\n",
    "first_color_test = [return_classes(color, 0) for color in test.color]\n",
    "second_color_test = [return_classes(color, 1) for color in test.color]\n",
    "reduced_first_color_test= map(lambda x: x.split()[0], first_color_test)\n",
    "reduced_second_color_test = map(lambda x: x.split()[0], second_color_test)\n",
    "test['first_color'] = reduced_first_color_test\n",
    "test['second_color'] = reduced_second_color_test"
   ]
  },
  {
   "cell_type": "code",
   "execution_count": 141,
   "metadata": {
    "collapsed": false
   },
   "outputs": [],
   "source": [
    "test_month_dummies = pd.get_dummies(test['month'], prefix = 'month', drop_first = True)\n",
    "test_fertility_dummies = pd.get_dummies(test.sterile, prefix = 'fertility', drop_first = True)\n",
    "test_weekday_dummies = pd.get_dummies(test.weekday, prefix = 'weekday', drop_first = True)\n",
    "test_breed_dummies = pd.get_dummies(test.reduced_first_breed, prefix = 'first_breed', drop_first = True)\n",
    "test_first_color_dummies = pd.get_dummies(test.first_color, prefix = 'first_color', drop_first = True)\n",
    "test_second_color_dummies = pd.get_dummies(test.second_color, prefix = 'second_color', drop_first = True)\n",
    "\n",
    "\n",
    "submission_data = test[['age_in_days', 'hour', 'has_name', 'if_female', 'if_dog']].join([test_month_dummies, \n",
    "                                                                                       test_fertility_dummies,\n",
    "                                                                                      test_weekday_dummies,\n",
    "                                                                                      test_breed_dummies,\n",
    "                                                                                       test_first_color_dummies,\n",
    "                                                                                       test_second_color_dummies])\n",
    "submission_data['first_color_Ruddy'] = range(len(submission_data))\n",
    "submission_data['second_color_Flame'] = range(len(submission_data))\n",
    "submission_data['second_color_Pink'] = range(len(submission_data))"
   ]
  },
  {
   "cell_type": "markdown",
   "metadata": {},
   "source": [
    "## Lump Data"
   ]
  },
  {
   "cell_type": "code",
   "execution_count": 152,
   "metadata": {
    "collapsed": false
   },
   "outputs": [],
   "source": [
    "submission_pred = rf_clf.predict_proba(submission_data)"
   ]
  },
  {
   "cell_type": "code",
   "execution_count": 169,
   "metadata": {
    "collapsed": false
   },
   "outputs": [],
   "source": [
    "submission = pd.DataFrame(submission_pred, \n",
    "                          columns=['Adoption', 'Died','Euthanasia',  'Return_to_owner', 'Transfer'],\n",
    "                          index= range(1,len(submission_pred)+1))\n",
    "submission.index.name = 'ID'"
   ]
  },
  {
   "cell_type": "code",
   "execution_count": 171,
   "metadata": {
    "collapsed": true
   },
   "outputs": [],
   "source": [
    "submission.to_csv('cv_kaggle_submission.csv')"
   ]
  },
  {
   "cell_type": "code",
   "execution_count": null,
   "metadata": {
    "collapsed": true
   },
   "outputs": [],
   "source": []
  }
 ],
 "metadata": {
  "anaconda-cloud": {},
  "kernelspec": {
   "display_name": "Python [conda env:datasci27]",
   "language": "python",
   "name": "conda-env-datasci27-py"
  },
  "language_info": {
   "codemirror_mode": {
    "name": "ipython",
    "version": 2
   },
   "file_extension": ".py",
   "mimetype": "text/x-python",
   "name": "python",
   "nbconvert_exporter": "python",
   "pygments_lexer": "ipython2",
   "version": "2.7.12"
  }
 },
 "nbformat": 4,
 "nbformat_minor": 1
}

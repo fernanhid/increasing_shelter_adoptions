{
 "cells": [
  {
   "cell_type": "code",
   "execution_count": 100,
   "metadata": {
    "collapsed": false
   },
   "outputs": [],
   "source": [
    "import pandas as pd\n",
    "from imblearn.combine import SMOTETomek\n",
    "from sklearn import cross_validation\n",
    "import cPickle"
   ]
  },
  {
   "cell_type": "code",
   "execution_count": 114,
   "metadata": {
    "collapsed": false
   },
   "outputs": [],
   "source": [
    "data = pd.read_csv('predict_data.csv', index_col=0)"
   ]
  },
  {
   "cell_type": "code",
   "execution_count": 102,
   "metadata": {
    "collapsed": true
   },
   "outputs": [],
   "source": [
    "# X and y split"
   ]
  },
  {
   "cell_type": "code",
   "execution_count": 116,
   "metadata": {
    "collapsed": false
   },
   "outputs": [],
   "source": [
    "X = data[data.columns[data.columns != 'outcometype']]\n",
    "y = data['outcometype']"
   ]
  },
  {
   "cell_type": "code",
   "execution_count": 117,
   "metadata": {
    "collapsed": true
   },
   "outputs": [],
   "source": [
    "# Deal with Unbalanced Classes, you can try more in "
   ]
  },
  {
   "cell_type": "code",
   "execution_count": 118,
   "metadata": {
    "collapsed": false
   },
   "outputs": [],
   "source": [
    "st = SMOTETomek()\n",
    "X, y = st.fit_sample(X,y)"
   ]
  },
  {
   "cell_type": "code",
   "execution_count": 119,
   "metadata": {
    "collapsed": true
   },
   "outputs": [],
   "source": [
    "# Cross Validation"
   ]
  },
  {
   "cell_type": "code",
   "execution_count": 120,
   "metadata": {
    "collapsed": true
   },
   "outputs": [],
   "source": [
    "X_train, X_test, y_train, y_test = cross_validation.train_test_split(X, y, test_size = .3, random_state = 0)"
   ]
  },
  {
   "cell_type": "markdown",
   "metadata": {},
   "source": [
    "# Prediction"
   ]
  },
  {
   "cell_type": "markdown",
   "metadata": {},
   "source": [
    "### Logistic Regression"
   ]
  },
  {
   "cell_type": "code",
   "execution_count": 44,
   "metadata": {
    "collapsed": true
   },
   "outputs": [],
   "source": [
    "from sklearn.linear_model import LogisticRegressionCV\n",
    "\n",
    "log_clf = LogisticRegressionCV()\n",
    "log_clf.fit(X_train, y_train)\n",
    "log_pred = log_clf.predict(X_test)"
   ]
  },
  {
   "cell_type": "code",
   "execution_count": 45,
   "metadata": {
    "collapsed": false
   },
   "outputs": [
    {
     "name": "stdout",
     "output_type": "stream",
     "text": [
      "             precision    recall  f1-score   support\n",
      "\n",
      "   Adoption       0.57      0.89      0.69      3029\n",
      "   Transfer       0.54      0.14      0.23      2701\n",
      "Return_to_owner       0.49      0.04      0.07      1343\n",
      " Euthanasia       0.52      0.58      0.55      3186\n",
      "       Died       0.54      0.73      0.62      3266\n",
      "\n",
      "avg / total       0.54      0.54      0.49     13525\n",
      "\n"
     ]
    }
   ],
   "source": [
    "from sklearn.metrics import classification_report\n",
    "print classification_report(y_test, log_pred, labels = ['Adoption','Transfer', 'Return_to_owner','Euthanasia', 'Died' ])"
   ]
  },
  {
   "cell_type": "code",
   "execution_count": 46,
   "metadata": {
    "collapsed": false
   },
   "outputs": [
    {
     "data": {
      "text/plain": [
       "array([[2684,   29,   27,  193,   96],\n",
       "       [ 723,  387,   12,  529, 1050],\n",
       "       [ 766,   31,   53,  426,   67],\n",
       "       [ 349,  171,   10, 1849,  807],\n",
       "       [ 189,  101,    7,  582, 2387]])"
      ]
     },
     "execution_count": 46,
     "metadata": {},
     "output_type": "execute_result"
    }
   ],
   "source": [
    "from sklearn.metrics import confusion_matrix\n",
    "confusion_matrix(y_test, log_pred, labels = ['Adoption','Transfer', 'Return_to_owner','Euthanasia', 'Died' ])"
   ]
  },
  {
   "cell_type": "markdown",
   "metadata": {},
   "source": [
    "### Nearest Neighbors"
   ]
  },
  {
   "cell_type": "code",
   "execution_count": 75,
   "metadata": {
    "collapsed": true
   },
   "outputs": [],
   "source": [
    "from sklearn.neighbors import KNeighborsClassifier\n",
    "knn_clf = KNeighborsClassifier()\n",
    "knn_clf.fit(X_train, y_train)\n",
    "knn_pred = knn_clf.predict(X_test)"
   ]
  },
  {
   "cell_type": "code",
   "execution_count": 76,
   "metadata": {
    "collapsed": false
   },
   "outputs": [
    {
     "name": "stdout",
     "output_type": "stream",
     "text": [
      "             precision    recall  f1-score   support\n",
      "\n",
      "   Adoption       0.63      0.74      0.68      3182\n",
      "   Transfer       0.76      0.51      0.62      2772\n",
      "Return_to_owner       0.40      0.37      0.38      1382\n",
      " Euthanasia       0.26      0.08      0.13       472\n",
      "       Died       0.81      0.99      0.89      3265\n",
      "\n",
      "avg / total       0.67      0.68      0.67     11073\n",
      "\n"
     ]
    }
   ],
   "source": [
    "from sklearn.metrics import classification_report\n",
    "print classification_report(y_test, knn_pred, labels = ['Adoption','Transfer', 'Return_to_owner','Euthanasia', 'Died' ])"
   ]
  },
  {
   "cell_type": "markdown",
   "metadata": {},
   "source": [
    "### Random Forest Classifier"
   ]
  },
  {
   "cell_type": "code",
   "execution_count": 121,
   "metadata": {
    "collapsed": false
   },
   "outputs": [],
   "source": [
    "from sklearn.ensemble import RandomForestClassifier\n",
    "from sklearn.grid_search import GridSearchCV\n",
    "rf = RandomForestClassifier()\n",
    "\n",
    "parameters = {'n_estimators':range(5,20,5), 'criterion':['gini', 'entropy'], 'bootstrap': [True, False]}\n",
    "rf_clf = GridSearchCV(rf, parameters)\n",
    "rf_clf.fit(X_train, y_train)\n",
    "rf_pred = rf_clf.predict(X_test)"
   ]
  },
  {
   "cell_type": "code",
   "execution_count": 122,
   "metadata": {
    "collapsed": false
   },
   "outputs": [
    {
     "name": "stdout",
     "output_type": "stream",
     "text": [
      "             precision    recall  f1-score   support\n",
      "\n",
      "   Adoption       0.67      0.79      0.73      3200\n",
      "   Transfer       0.72      0.70      0.71      2812\n",
      "Return_to_owner       0.45      0.39      0.42      1391\n",
      " Euthanasia       0.44      0.14      0.21       445\n",
      "       Died       1.00      0.99      0.99      3225\n",
      "\n",
      "avg / total       0.74      0.75      0.74     11073\n",
      "\n"
     ]
    }
   ],
   "source": [
    "from sklearn.metrics import classification_report\n",
    "print classification_report(y_test, rf_pred, labels = ['Adoption','Transfer', 'Return_to_owner','Euthanasia', 'Died' ])"
   ]
  },
  {
   "cell_type": "code",
   "execution_count": 123,
   "metadata": {
    "collapsed": false
   },
   "outputs": [
    {
     "data": {
      "text/plain": [
       "array([[2534,  290,  371,    5,    0],\n",
       "       [ 554, 1977,  225,   47,    9],\n",
       "       [ 601,  217,  548,   24,    1],\n",
       "       [  80,  228,   73,   61,    3],\n",
       "       [   4,   35,    5,    2, 3179]])"
      ]
     },
     "execution_count": 123,
     "metadata": {},
     "output_type": "execute_result"
    }
   ],
   "source": [
    "from sklearn.metrics import confusion_matrix\n",
    "\n",
    "confusion_matrix(y_test, rf_pred, labels = ['Adoption','Transfer', 'Return_to_owner','Euthanasia', 'Died' ])\n"
   ]
  },
  {
   "cell_type": "markdown",
   "metadata": {},
   "source": [
    "### Gradient Boosting Classifier"
   ]
  },
  {
   "cell_type": "code",
   "execution_count": 84,
   "metadata": {
    "collapsed": false
   },
   "outputs": [],
   "source": [
    "from sklearn.ensemble import GradientBoostingClassifier\n",
    "\n",
    "\n",
    "gb = GradientBoostingClassifier()\n",
    "gb.fit(X_train, y_train)\n",
    "gb_pred = gb.predict(X_test)"
   ]
  },
  {
   "cell_type": "code",
   "execution_count": 86,
   "metadata": {
    "collapsed": false
   },
   "outputs": [
    {
     "name": "stdout",
     "output_type": "stream",
     "text": [
      "             precision    recall  f1-score   support\n",
      "\n",
      "   Adoption       0.70      0.82      0.76      3156\n",
      "   Transfer       0.75      0.71      0.73      2814\n",
      "Return_to_owner       0.49      0.48      0.48      1404\n",
      " Euthanasia       0.58      0.21      0.31       464\n",
      "       Died       0.99      0.98      0.99      3237\n",
      "\n",
      "avg / total       0.77      0.77      0.76     11075\n",
      "\n"
     ]
    }
   ],
   "source": [
    "from sklearn.metrics import classification_report\n",
    "print classification_report(y_test, gb_pred, labels = ['Adoption','Transfer', 'Return_to_owner','Euthanasia', 'Died' ])"
   ]
  },
  {
   "cell_type": "code",
   "execution_count": 92,
   "metadata": {
    "collapsed": false
   },
   "outputs": [
    {
     "data": {
      "text/plain": [
       "array([[2590,  230,  327,    8,    1],\n",
       "       [ 520, 1986,  259,   38,   11],\n",
       "       [ 540,  168,  671,   25,    0],\n",
       "       [  39,  214,  109,   98,    4],\n",
       "       [   8,   42,    6,    0, 3181]])"
      ]
     },
     "execution_count": 92,
     "metadata": {},
     "output_type": "execute_result"
    }
   ],
   "source": [
    "from sklearn.metrics import confusion_matrix\n",
    "confusion_matrix(y_test, gb_pred, labels = ['Adoption','Transfer', 'Return_to_owner','Euthanasia', 'Died' ])"
   ]
  },
  {
   "cell_type": "markdown",
   "metadata": {},
   "source": [
    "## I Will Choose Random Forrest Classifier"
   ]
  },
  {
   "cell_type": "code",
   "execution_count": 124,
   "metadata": {
    "collapsed": false
   },
   "outputs": [],
   "source": [
    "with open('rforest_model.pkl', 'wb') as fid:\n",
    "    cPickle.dump(rf_clf, fid) "
   ]
  }
 ],
 "metadata": {
  "anaconda-cloud": {},
  "kernelspec": {
   "display_name": "Python [conda env:datasci27]",
   "language": "python",
   "name": "conda-env-datasci27-py"
  },
  "language_info": {
   "codemirror_mode": {
    "name": "ipython",
    "version": 2
   },
   "file_extension": ".py",
   "mimetype": "text/x-python",
   "name": "python",
   "nbconvert_exporter": "python",
   "pygments_lexer": "ipython2",
   "version": "2.7.12"
  }
 },
 "nbformat": 4,
 "nbformat_minor": 1
}
